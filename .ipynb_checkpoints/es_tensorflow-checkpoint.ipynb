{
 "cells": [
  {
   "cell_type": "code",
   "execution_count": null,
   "metadata": {
    "collapsed": true
   },
   "outputs": [],
   "source": [
    "import numpy as np\n",
    "import tensorflow as tf\n",
    "import gym\n",
    "import time\n",
    "import multiprocessing\n",
    "from multiprocessing import Process, current_process\n",
    "\n",
    "env=gym.make('MsPacman-v0')\n",
    "\n",
    "np.random.seed(0)\n",
    "\n",
    "def reshape_image(state,reward):\n",
    "    state_flat = np.reshape(state,[-1])\n",
    "    state_flat = np.append(state_flat,reward)\n",
    "    return np.reshape(state_flat,[1,100801])\n",
    "\n",
    "num_episodes = 20000\n",
    "num_workers = 1\n",
    "deviation = 0.1\n",
    "learning_rate  = 0.001\n",
    "epsilon = 0.1\n",
    "\n",
    "\n",
    "z_ = tf.placeholder(tf.float32,[1,9])\n",
    "x = tf.placeholder(tf.float32,[1,100801])\n",
    "w = tf.placeholder(tf.float32,[100801,9])\n",
    "y_ = tf.matmul(x,w)\n",
    "\n",
    "obs = env.reset()\n",
    "sess = tf.InteractiveSession()\n",
    "init = tf.global_variables_initializer()\n",
    "\n",
    "\n",
    "worker_rewards = np.zeros(num_workers)\n",
    "worker_weights = []\n",
    "\n",
    "for j in range(0,num_workers):\n",
    "    worker_weights.append(np.random.randn(100801,9))\n",
    "done = None\n",
    "for i in range(0,num_episodes):\n",
    "    for j in range(0,num_workers):\n",
    "        if done:\n",
    "            env.reset()\n",
    "\n",
    "        #Noise Perturbations\n",
    "        N = np.random.randn(100801,9)\n",
    "        W = worker_weights[j]\n",
    "        W_action = W+deviation*N\n",
    "        X = reshape_image(obs, worker_rewards[j])\n",
    "        y_values = sess.run(y_, feed_dict={x: X, w: W_action})\n",
    "\n",
    "        action_index = np.argmax(y_values)\n",
    "        print(\"Action index on worker %s\" % action_index)\n",
    "        obs, reward, done, info = env.step(action_index)\n",
    "        worker_rewards[j] = reward\n",
    "        env.render()\n",
    "        A = (y_values - np.mean(y_values)) / np.std(y_values)\n",
    "        print(A.shape)\n",
    "        print(N.T)\n",
    "        print(worker_weights[j].shape)\n",
    "        worker_weights[j] = worker_weights[j] + learning_rate / (num_workers * deviation) * np.dot(N, A.T)\n",
    "\n"
   ]
  }
 ],
 "metadata": {
  "kernelspec": {
   "display_name": "Python 2",
   "language": "python",
   "name": "python2"
  },
  "language_info": {
   "codemirror_mode": {
    "name": "ipython",
    "version": 2
   },
   "file_extension": ".py",
   "mimetype": "text/x-python",
   "name": "python",
   "nbconvert_exporter": "python",
   "pygments_lexer": "ipython2",
   "version": "2.7.13"
  }
 },
 "nbformat": 4,
 "nbformat_minor": 2
}
